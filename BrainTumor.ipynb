{
  "nbformat": 4,
  "nbformat_minor": 0,
  "metadata": {
    "colab": {
      "name": "BrainTumor.ipynb",
      "provenance": []
    },
    "kernelspec": {
      "name": "python3",
      "display_name": "Python 3"
    },
    "language_info": {
      "name": "python"
    }
  },
  "cells": [
    {
      "cell_type": "code",
      "metadata": {
        "colab": {
          "base_uri": "https://localhost:8080/"
        },
        "id": "CTwev_RDqSNb",
        "outputId": "f7372372-c6ec-4ef2-9273-1011ae4998f7"
      },
      "source": [
        "from google.colab import drive\n",
        "drive.mount('/content/drive')"
      ],
      "execution_count": null,
      "outputs": [
        {
          "output_type": "stream",
          "name": "stdout",
          "text": [
            "Drive already mounted at /content/drive; to attempt to forcibly remount, call drive.mount(\"/content/drive\", force_remount=True).\n"
          ]
        }
      ]
    },
    {
      "cell_type": "code",
      "metadata": {
        "id": "TnHzZ2QsqZvx"
      },
      "source": [
        "import numpy as np\n",
        "import matplotlib.pyplot as plt\n",
        "import keras\n",
        "from keras.layers import Dense, Conv2D, MaxPool2D, Dropout, Flatten\n",
        "from keras.models import Sequential\n",
        "from keras.preprocessing import image"
      ],
      "execution_count": null,
      "outputs": []
    },
    {
      "cell_type": "code",
      "metadata": {
        "colab": {
          "base_uri": "https://localhost:8080/"
        },
        "id": "U_uNWCGFqwLM",
        "outputId": "22a08c54-8f73-4e69-e107-ec0f8c06727d"
      },
      "source": [
        "train_datagen = image.ImageDataGenerator(\n",
        "    rescale = 1/255, \n",
        "    horizontal_flip=True,   \n",
        "    zoom_range = 0.2, \n",
        "    shear_range = 0.2\n",
        "\n",
        ")\n",
        "train_data = train_datagen.flow_from_directory(directory=\"/content/drive/MyDrive/Brain tumor/brain_tumor_dataset/train\", \n",
        "                                               target_size=(256,256),\n",
        "                                               batch_size=16,\n",
        "                                               class_mode='binary')"
      ],
      "execution_count": null,
      "outputs": [
        {
          "output_type": "stream",
          "name": "stdout",
          "text": [
            "Found 199 images belonging to 2 classes.\n"
          ]
        }
      ]
    },
    {
      "cell_type": "code",
      "metadata": {
        "colab": {
          "base_uri": "https://localhost:8080/"
        },
        "id": "tNkCQU3prRQM",
        "outputId": "9ebdd9c7-4934-4033-ddec-e04d98615262"
      },
      "source": [
        "train_data.class_indices"
      ],
      "execution_count": null,
      "outputs": [
        {
          "output_type": "execute_result",
          "data": {
            "text/plain": [
              "{'no': 0, 'yes': 1}"
            ]
          },
          "metadata": {},
          "execution_count": 4
        }
      ]
    },
    {
      "cell_type": "code",
      "metadata": {
        "colab": {
          "base_uri": "https://localhost:8080/"
        },
        "id": "bu1LvgZur7nK",
        "outputId": "bf50730e-dc14-4778-e3a9-662bc5f8cf45"
      },
      "source": [
        "test_datagen = image.ImageDataGenerator(\n",
        "    rescale = 1/255\n",
        "    \n",
        "\n",
        ")\n",
        "test_data = test_datagen.flow_from_directory(directory=\"/content/drive/MyDrive/Brain tumor/brain_tumor_dataset/val\", \n",
        "                                               target_size=(256,256),\n",
        "                                               batch_size=16,\n",
        "                                               class_mode='binary')"
      ],
      "execution_count": null,
      "outputs": [
        {
          "output_type": "stream",
          "name": "stdout",
          "text": [
            "Found 54 images belonging to 2 classes.\n"
          ]
        }
      ]
    },
    {
      "cell_type": "code",
      "metadata": {
        "id": "Yb8Q5N4qsQro"
      },
      "source": [
        "model = Sequential()\n",
        "model.add(Conv2D(filters=32, kernel_size=(3,3),activation='relu',input_shape=(256,256,3)))\n",
        "#relu = rectified linear activation unit\n",
        "\n",
        "model.add(Conv2D(filters=64, kernel_size=(3,3),activation='relu'))\n",
        "model.add(MaxPool2D())\n",
        "model.add(Dropout(rate=0.25))\n",
        "\n",
        "model.add(Conv2D(filters=64, kernel_size=(3,3),activation='relu'))\n",
        "model.add(MaxPool2D())\n",
        "model.add(Dropout(rate=0.25))\n",
        "\n",
        "model.add(Conv2D(filters=128, kernel_size=(3,3),activation='relu'))\n",
        "model.add(MaxPool2D())\n",
        "model.add(Dropout(rate=0.25))\n",
        "\n",
        "model.add(Flatten())\n",
        "model.add(Dense(units=64,activation='relu'))\n",
        "model.add(Dropout(rate=0.50))\n",
        "model.add(Dense(units=1,activation='sigmoid'))\n",
        "\n",
        "model.compile(loss=keras.losses.binary_crossentropy,optimizer=\"adam\",metrics=['acc'])"
      ],
      "execution_count": null,
      "outputs": []
    },
    {
      "cell_type": "code",
      "metadata": {
        "colab": {
          "base_uri": "https://localhost:8080/"
        },
        "id": "BcImHVhQtShG",
        "outputId": "ccbacaa3-af19-4806-b424-bee9953c99f1"
      },
      "source": [
        "model.summary()"
      ],
      "execution_count": null,
      "outputs": [
        {
          "output_type": "stream",
          "name": "stdout",
          "text": [
            "Model: \"sequential\"\n",
            "_________________________________________________________________\n",
            " Layer (type)                Output Shape              Param #   \n",
            "=================================================================\n",
            " conv2d (Conv2D)             (None, 254, 254, 32)      896       \n",
            "                                                                 \n",
            " conv2d_1 (Conv2D)           (None, 252, 252, 64)      18496     \n",
            "                                                                 \n",
            " max_pooling2d (MaxPooling2D  (None, 126, 126, 64)     0         \n",
            " )                                                               \n",
            "                                                                 \n",
            " dropout (Dropout)           (None, 126, 126, 64)      0         \n",
            "                                                                 \n",
            " conv2d_2 (Conv2D)           (None, 124, 124, 64)      36928     \n",
            "                                                                 \n",
            " max_pooling2d_1 (MaxPooling  (None, 62, 62, 64)       0         \n",
            " 2D)                                                             \n",
            "                                                                 \n",
            " dropout_1 (Dropout)         (None, 62, 62, 64)        0         \n",
            "                                                                 \n",
            " conv2d_3 (Conv2D)           (None, 60, 60, 128)       73856     \n",
            "                                                                 \n",
            " max_pooling2d_2 (MaxPooling  (None, 30, 30, 128)      0         \n",
            " 2D)                                                             \n",
            "                                                                 \n",
            " dropout_2 (Dropout)         (None, 30, 30, 128)       0         \n",
            "                                                                 \n",
            " flatten (Flatten)           (None, 115200)            0         \n",
            "                                                                 \n",
            " dense (Dense)               (None, 64)                7372864   \n",
            "                                                                 \n",
            " dropout_3 (Dropout)         (None, 64)                0         \n",
            "                                                                 \n",
            " dense_1 (Dense)             (None, 1)                 65        \n",
            "                                                                 \n",
            "=================================================================\n",
            "Total params: 7,503,105\n",
            "Trainable params: 7,503,105\n",
            "Non-trainable params: 0\n",
            "_________________________________________________________________\n"
          ]
        }
      ]
    },
    {
      "cell_type": "code",
      "metadata": {
        "colab": {
          "base_uri": "https://localhost:8080/"
        },
        "id": "b97Qi2yrtSYF",
        "outputId": "a13f4c7d-fe99-474f-d796-4fec3e4f2943"
      },
      "source": [
        "model.fit_generator(train_data,steps_per_epoch=8,epochs=10,validation_steps=2,validation_data=test_data)"
      ],
      "execution_count": null,
      "outputs": [
        {
          "output_type": "stream",
          "name": "stderr",
          "text": [
            "/usr/local/lib/python3.7/dist-packages/ipykernel_launcher.py:1: UserWarning: `Model.fit_generator` is deprecated and will be removed in a future version. Please use `Model.fit`, which supports generators.\n",
            "  \"\"\"Entry point for launching an IPython kernel.\n"
          ]
        },
        {
          "output_type": "stream",
          "name": "stdout",
          "text": [
            "Epoch 1/10\n",
            "8/8 [==============================] - 62s 7s/step - loss: 2.3912 - acc: 0.5882 - val_loss: 0.6514 - val_acc: 0.7188\n",
            "Epoch 2/10\n",
            "8/8 [==============================] - 51s 6s/step - loss: 0.6451 - acc: 0.6016 - val_loss: 0.6858 - val_acc: 0.6875\n",
            "Epoch 3/10\n",
            "8/8 [==============================] - 50s 6s/step - loss: 0.6625 - acc: 0.6172 - val_loss: 0.6152 - val_acc: 0.6250\n",
            "Epoch 4/10\n",
            "8/8 [==============================] - 46s 6s/step - loss: 0.6126 - acc: 0.6555 - val_loss: 0.5991 - val_acc: 0.5625\n",
            "Epoch 5/10\n",
            "8/8 [==============================] - 46s 6s/step - loss: 0.6251 - acc: 0.6639 - val_loss: 0.6495 - val_acc: 0.7188\n",
            "Epoch 6/10\n",
            "8/8 [==============================] - 46s 6s/step - loss: 0.6354 - acc: 0.6891 - val_loss: 0.5800 - val_acc: 0.8438\n",
            "Epoch 7/10\n",
            "8/8 [==============================] - 49s 6s/step - loss: 0.6267 - acc: 0.6641 - val_loss: 0.6174 - val_acc: 0.8125\n",
            "Epoch 8/10\n",
            "8/8 [==============================] - 46s 6s/step - loss: 0.6042 - acc: 0.7059 - val_loss: 0.5767 - val_acc: 0.7500\n",
            "Epoch 9/10\n",
            "8/8 [==============================] - 49s 6s/step - loss: 0.5856 - acc: 0.6953 - val_loss: 0.6015 - val_acc: 0.7188\n",
            "Epoch 10/10\n",
            "8/8 [==============================] - 51s 6s/step - loss: 0.5929 - acc: 0.6953 - val_loss: 0.5445 - val_acc: 0.8125\n"
          ]
        },
        {
          "output_type": "execute_result",
          "data": {
            "text/plain": [
              "<keras.callbacks.History at 0x7f4aec029210>"
            ]
          },
          "metadata": {},
          "execution_count": 8
        }
      ]
    },
    {
      "cell_type": "code",
      "metadata": {
        "colab": {
          "base_uri": "https://localhost:8080/"
        },
        "id": "8RAkKfmGyCLD",
        "outputId": "a84a0634-5062-4c48-d79f-f5b59dc818c0"
      },
      "source": [
        "path = \"/content/drive/MyDrive/Brain tumor/brain_tumor_dataset/val/yes/Y180.jpg\"\n",
        "img = image.load_img(path, target_size=(256,256))\n",
        "img = image.img_to_array(img)/255\n",
        "img=np.array([img])\n",
        "img.shape\n",
        "\n",
        "\n",
        "# predictions = (model.predict(img)>0.5).astype(\"int32\")\n",
        "# print(predictions)"
      ],
      "execution_count": null,
      "outputs": [
        {
          "output_type": "execute_result",
          "data": {
            "text/plain": [
              "(1, 256, 256, 3)"
            ]
          },
          "metadata": {},
          "execution_count": 13
        }
      ]
    },
    {
      "cell_type": "code",
      "metadata": {
        "colab": {
          "base_uri": "https://localhost:8080/"
        },
        "id": "ylSdtDm6zJF6",
        "outputId": "159bc2d4-99c9-436b-ac9f-e38976d0b10b"
      },
      "source": [
        "predictions = (model.predict(img)>0.5).astype(\"int32\")\n",
        "print(predictions)\n",
        "\n",
        "if predictions[0][0]==0:\n",
        "  print(\"The patient does not have BRAIN TUMOR\")\n",
        "else:\n",
        "  print(\"The patient have BRAIN TUMOR\")"
      ],
      "execution_count": null,
      "outputs": [
        {
          "output_type": "stream",
          "name": "stdout",
          "text": [
            "[[1]]\n",
            "The patient have BRAIN TUMOR\n"
          ]
        }
      ]
    }
  ]
}