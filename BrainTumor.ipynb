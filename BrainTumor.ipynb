{
  "nbformat": 4,
  "nbformat_minor": 0,
  "metadata": {
    "colab": {
      "name": "BrainTumor.ipynb",
      "provenance": []
    },
    "kernelspec": {
      "name": "python3",
      "display_name": "Python 3"
    },
    "language_info": {
      "name": "python"
    }
  },
  "cells": [
    {
      "cell_type": "code",
      "metadata": {
        "id": "CTwev_RDqSNb"
      },
      "source": [
        "from google.colab import drive\n",
        "drive.mount('/content/drive')"
      ],
      "execution_count": null,
      "outputs": []
    },
    {
      "cell_type": "code",
      "metadata": {
        "id": "TnHzZ2QsqZvx"
      },
      "source": [
        "import numpy as np\n",
        "import matplotlib.pyplot as plt\n",
        "import keras\n",
        "from keras.layers import Dense, Conv2D, MaxPool2D, Dropout, Flatten\n",
        "from keras.models import Sequential\n",
        "from keras.preprocessing import image"
      ],
      "execution_count": 13,
      "outputs": []
    },
    {
      "cell_type": "code",
      "metadata": {
        "colab": {
          "base_uri": "https://localhost:8080/"
        },
        "id": "U_uNWCGFqwLM",
        "outputId": "bb228d3c-f1b8-440d-c438-19c7a7e5a6b6"
      },
      "source": [
        "train_datagen = image.ImageDataGenerator(\n",
        "    rescale = 1/255, \n",
        "    horizontal_flip=True, \n",
        "    zoom_range = 0.2, \n",
        "    shear_range = 0.2\n",
        "\n",
        ")\n",
        "train_data = train_datagen.flow_from_directory(directory=\"/content/drive/MyDrive/Brain tumor/brain_tumor_dataset/train\", \n",
        "                                               target_size=(256,256),\n",
        "                                               batch_size=16,\n",
        "                                               class_mode='binary')"
      ],
      "execution_count": 6,
      "outputs": [
        {
          "output_type": "stream",
          "name": "stdout",
          "text": [
            "Found 199 images belonging to 2 classes.\n"
          ]
        }
      ]
    },
    {
      "cell_type": "code",
      "metadata": {
        "colab": {
          "base_uri": "https://localhost:8080/"
        },
        "id": "tNkCQU3prRQM",
        "outputId": "af22e157-251c-49b5-f769-ccd939d4ce9a"
      },
      "source": [
        "train_data.class_indices"
      ],
      "execution_count": 7,
      "outputs": [
        {
          "output_type": "execute_result",
          "data": {
            "text/plain": [
              "{'no': 0, 'yes': 1}"
            ]
          },
          "metadata": {},
          "execution_count": 7
        }
      ]
    },
    {
      "cell_type": "code",
      "metadata": {
        "colab": {
          "base_uri": "https://localhost:8080/"
        },
        "id": "bu1LvgZur7nK",
        "outputId": "b63e82fa-dd2b-4c24-dfbb-889e62656e37"
      },
      "source": [
        "test_datagen = image.ImageDataGenerator(\n",
        "    rescale = 1/255\n",
        "    \n",
        "\n",
        ")\n",
        "test_data = test_datagen.flow_from_directory(directory=\"/content/drive/MyDrive/Brain tumor/brain_tumor_dataset/val\", \n",
        "                                               target_size=(256,256),\n",
        "                                               batch_size=16,\n",
        "                                               class_mode='binary')"
      ],
      "execution_count": 8,
      "outputs": [
        {
          "output_type": "stream",
          "name": "stdout",
          "text": [
            "Found 54 images belonging to 2 classes.\n"
          ]
        }
      ]
    },
    {
      "cell_type": "code",
      "metadata": {
        "id": "Yb8Q5N4qsQro"
      },
      "source": [
        "model = Sequential()\n",
        "model.add(Conv2D(filters=32, kernel_size=(3,3),activation='relu',input_shape=(256,256,3)))\n",
        "#relu = rectified linear activation unit\n",
        "\n",
        "model.add(Conv2D(filters=64, kernel_size=(3,3),activation='relu'))\n",
        "model.add(MaxPool2D())\n",
        "model.add(Dropout(rate=0.25))\n",
        "\n",
        "model.add(Conv2D(filters=64, kernel_size=(3,3),activation='relu'))\n",
        "model.add(MaxPool2D())\n",
        "model.add(Dropout(rate=0.25))\n",
        "\n",
        "model.add(Conv2D(filters=128, kernel_size=(3,3),activation='relu'))\n",
        "model.add(MaxPool2D())\n",
        "model.add(Dropout(rate=0.25))\n",
        "\n",
        "model.add(Flatten())\n",
        "model.add(Dense(units=64,activation='relu'))\n",
        "model.add(Dropout(rate=0.50))\n",
        "model.add(Dense(units=1,activation='sigmoid'))\n",
        "\n",
        "model.compile(loss=keras.losses.binary_crossentropy,optimizer=\"adam\",metrics=['acc'])"
      ],
      "execution_count": 14,
      "outputs": []
    },
    {
      "cell_type": "code",
      "metadata": {
        "colab": {
          "base_uri": "https://localhost:8080/"
        },
        "id": "BcImHVhQtShG",
        "outputId": "edc913bd-6494-4989-8db5-541308a80279"
      },
      "source": [
        "model.summary()"
      ],
      "execution_count": 15,
      "outputs": [
        {
          "output_type": "stream",
          "name": "stdout",
          "text": [
            "Model: \"sequential_3\"\n",
            "_________________________________________________________________\n",
            " Layer (type)                Output Shape              Param #   \n",
            "=================================================================\n",
            " conv2d_5 (Conv2D)           (None, 254, 254, 32)      896       \n",
            "                                                                 \n",
            " conv2d_6 (Conv2D)           (None, 252, 252, 64)      18496     \n",
            "                                                                 \n",
            " max_pooling2d_3 (MaxPooling  (None, 126, 126, 64)     0         \n",
            " 2D)                                                             \n",
            "                                                                 \n",
            " dropout_4 (Dropout)         (None, 126, 126, 64)      0         \n",
            "                                                                 \n",
            " conv2d_7 (Conv2D)           (None, 124, 124, 64)      36928     \n",
            "                                                                 \n",
            " max_pooling2d_4 (MaxPooling  (None, 62, 62, 64)       0         \n",
            " 2D)                                                             \n",
            "                                                                 \n",
            " dropout_5 (Dropout)         (None, 62, 62, 64)        0         \n",
            "                                                                 \n",
            " conv2d_8 (Conv2D)           (None, 60, 60, 128)       73856     \n",
            "                                                                 \n",
            " max_pooling2d_5 (MaxPooling  (None, 30, 30, 128)      0         \n",
            " 2D)                                                             \n",
            "                                                                 \n",
            " dropout_6 (Dropout)         (None, 30, 30, 128)       0         \n",
            "                                                                 \n",
            " flatten_1 (Flatten)         (None, 115200)            0         \n",
            "                                                                 \n",
            " dense_2 (Dense)             (None, 64)                7372864   \n",
            "                                                                 \n",
            " dropout_7 (Dropout)         (None, 64)                0         \n",
            "                                                                 \n",
            " dense_3 (Dense)             (None, 1)                 65        \n",
            "                                                                 \n",
            "=================================================================\n",
            "Total params: 7,503,105\n",
            "Trainable params: 7,503,105\n",
            "Non-trainable params: 0\n",
            "_________________________________________________________________\n"
          ]
        }
      ]
    },
    {
      "cell_type": "code",
      "metadata": {
        "colab": {
          "base_uri": "https://localhost:8080/"
        },
        "id": "b97Qi2yrtSYF",
        "outputId": "eda6ba91-fdca-4870-bc3c-f994a8845dda"
      },
      "source": [
        "model.fit_generator(train_data,steps_per_epoch=8,epochs=10,validation_steps=2,validation_data=test_data)"
      ],
      "execution_count": 16,
      "outputs": [
        {
          "output_type": "stream",
          "name": "stderr",
          "text": [
            "/usr/local/lib/python3.7/dist-packages/ipykernel_launcher.py:1: UserWarning: `Model.fit_generator` is deprecated and will be removed in a future version. Please use `Model.fit`, which supports generators.\n",
            "  \"\"\"Entry point for launching an IPython kernel.\n"
          ]
        },
        {
          "output_type": "stream",
          "name": "stdout",
          "text": [
            "Epoch 1/10\n",
            "8/8 [==============================] - 92s 11s/step - loss: 0.9857 - acc: 0.5210 - val_loss: 0.6465 - val_acc: 0.6250\n",
            "Epoch 2/10\n",
            "8/8 [==============================] - 48s 6s/step - loss: 0.7085 - acc: 0.5966 - val_loss: 0.6856 - val_acc: 0.5625\n",
            "Epoch 3/10\n",
            "8/8 [==============================] - 47s 6s/step - loss: 0.6655 - acc: 0.5938 - val_loss: 0.6433 - val_acc: 0.6250\n",
            "Epoch 4/10\n",
            "8/8 [==============================] - 46s 6s/step - loss: 0.6676 - acc: 0.6172 - val_loss: 0.6244 - val_acc: 0.8750\n",
            "Epoch 5/10\n",
            "8/8 [==============================] - 43s 5s/step - loss: 0.6628 - acc: 0.5630 - val_loss: 0.6412 - val_acc: 0.7812\n",
            "Epoch 6/10\n",
            "8/8 [==============================] - 44s 5s/step - loss: 0.6408 - acc: 0.6723 - val_loss: 0.6243 - val_acc: 0.5625\n",
            "Epoch 7/10\n",
            "8/8 [==============================] - 47s 6s/step - loss: 0.6403 - acc: 0.6250 - val_loss: 0.6005 - val_acc: 0.8750\n",
            "Epoch 8/10\n",
            "8/8 [==============================] - 47s 6s/step - loss: 0.6360 - acc: 0.7031 - val_loss: 0.5359 - val_acc: 0.7500\n",
            "Epoch 9/10\n",
            "8/8 [==============================] - 44s 5s/step - loss: 0.6034 - acc: 0.7059 - val_loss: 0.5665 - val_acc: 0.6875\n",
            "Epoch 10/10\n",
            "8/8 [==============================] - 46s 6s/step - loss: 0.6032 - acc: 0.7109 - val_loss: 0.6253 - val_acc: 0.6875\n"
          ]
        },
        {
          "output_type": "execute_result",
          "data": {
            "text/plain": [
              "<keras.callbacks.History at 0x7f19b04bae10>"
            ]
          },
          "metadata": {},
          "execution_count": 16
        }
      ]
    },
    {
      "cell_type": "code",
      "metadata": {
        "colab": {
          "base_uri": "https://localhost:8080/"
        },
        "id": "8RAkKfmGyCLD",
        "outputId": "d04f4e3f-bdec-4075-d47c-fa85d334487b"
      },
      "source": [
        "path = \"/content/drive/MyDrive/Brain tumor/brain_tumor_dataset/val/yes/Y247.JPG\"\n",
        "img = image.load_img(path, target_size=(256,256))\n",
        "img = image.img_to_array(img)/255\n",
        "img=np.array([img])\n",
        "img.shape\n",
        "\n",
        "\n",
        "# predictions = (model.predict(img)>0.5).astype(\"int32\")\n",
        "# print(predictions)"
      ],
      "execution_count": 29,
      "outputs": [
        {
          "output_type": "execute_result",
          "data": {
            "text/plain": [
              "(1, 256, 256, 3)"
            ]
          },
          "metadata": {},
          "execution_count": 29
        }
      ]
    },
    {
      "cell_type": "code",
      "metadata": {
        "colab": {
          "base_uri": "https://localhost:8080/"
        },
        "id": "ylSdtDm6zJF6",
        "outputId": "461c1ff7-ac96-4b0b-8f5c-f2a0f1dc01ab"
      },
      "source": [
        "predictions = (model.predict(img)>0.5).astype(\"int32\")\n",
        "print(predictions)\n",
        "\n",
        "if predictions[0][0]==0:\n",
        "  print(\"The patient does not have BRAIN TUMOR\")\n",
        "else:\n",
        "  print(\"The patient have BRAIN TUMOR\")"
      ],
      "execution_count": 30,
      "outputs": [
        {
          "output_type": "stream",
          "name": "stdout",
          "text": [
            "[[1]]\n",
            "The patient have BRAIN TUMOR\n"
          ]
        }
      ]
    }
  ]
}